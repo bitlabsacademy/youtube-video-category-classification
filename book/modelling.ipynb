{
 "cells": [
  {
   "cell_type": "markdown",
   "id": "3feb598a-e201-4ad7-a4cd-0eb873ceff79",
   "metadata": {},
   "source": [
    "# YouTube Video Category Classification\n",
    "\n",
    "```{epigraph}\n",
    "Work in progress...\n",
    "```"
   ]
  },
  {
   "cell_type": "code",
   "execution_count": null,
   "id": "6e8e8f6c-0cc8-4145-a114-e305f3dd3c29",
   "metadata": {},
   "outputs": [],
   "source": []
  }
 ],
 "metadata": {
  "kernelspec": {
   "display_name": "Python 3 (ipykernel)",
   "language": "python",
   "name": "python3"
  },
  "language_info": {
   "codemirror_mode": {
    "name": "ipython",
    "version": 3
   },
   "file_extension": ".py",
   "mimetype": "text/x-python",
   "name": "python",
   "nbconvert_exporter": "python",
   "pygments_lexer": "ipython3",
   "version": "3.8.11"
  }
 },
 "nbformat": 4,
 "nbformat_minor": 5
}
