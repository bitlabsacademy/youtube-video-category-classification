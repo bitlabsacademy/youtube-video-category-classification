{
 "cells": [
  {
   "cell_type": "markdown",
   "id": "b15cadac-1340-493b-aa3a-5de280c1c3e9",
   "metadata": {},
   "source": [
    "# Exploratory Data Analysis on YouTube Trending Video Statistics\n",
    "\n",
    "```{epigraph}\n",
    "Work in progress...\n",
    "```"
   ]
  },
  {
   "cell_type": "code",
   "execution_count": null,
   "id": "0d9bedf6-7acf-4dc3-ada5-4ce55fa645ef",
   "metadata": {},
   "outputs": [],
   "source": []
  }
 ],
 "metadata": {
  "kernelspec": {
   "display_name": "Python 3 (ipykernel)",
   "language": "python",
   "name": "python3"
  },
  "language_info": {
   "codemirror_mode": {
    "name": "ipython",
    "version": 3
   },
   "file_extension": ".py",
   "mimetype": "text/x-python",
   "name": "python",
   "nbconvert_exporter": "python",
   "pygments_lexer": "ipython3",
   "version": "3.8.11"
  }
 },
 "nbformat": 4,
 "nbformat_minor": 5
}
