{
 "cells": [
  {
   "cell_type": "markdown",
   "id": "2f4b942b-2d40-47ae-9260-34ba9d7f75be",
   "metadata": {},
   "source": [
    "# Machine Learning: An Overview\n",
    "\n",
    "```{epigraph}\n",
    "Work in progress...\n",
    "```"
   ]
  },
  {
   "cell_type": "code",
   "execution_count": null,
   "id": "99b237a1-75d1-4998-86af-d829cf692a9c",
   "metadata": {},
   "outputs": [],
   "source": []
  }
 ],
 "metadata": {
  "kernelspec": {
   "display_name": "Python 3 (ipykernel)",
   "language": "python",
   "name": "python3"
  },
  "language_info": {
   "codemirror_mode": {
    "name": "ipython",
    "version": 3
   },
   "file_extension": ".py",
   "mimetype": "text/x-python",
   "name": "python",
   "nbconvert_exporter": "python",
   "pygments_lexer": "ipython3",
   "version": "3.8.11"
  }
 },
 "nbformat": 4,
 "nbformat_minor": 5
}
